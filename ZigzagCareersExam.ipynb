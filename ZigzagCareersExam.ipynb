{
 "cells": [
  {
   "cell_type": "markdown",
   "id": "electoral-wallpaper",
   "metadata": {},
   "source": [
    "## Level 1 Palindrome"
   ]
  },
  {
   "cell_type": "code",
   "execution_count": 8,
   "id": "awful-component",
   "metadata": {},
   "outputs": [
    {
     "data": {
      "text/plain": [
       "True"
      ]
     },
     "execution_count": 8,
     "metadata": {},
     "output_type": "execute_result"
    }
   ],
   "source": [
    "a = \"abcdcba\"\n",
    "b = 123\n",
    "c = \"\"\n",
    "\n",
    "def isPalindrome(word:str)->bool:\n",
    "    \"\"\"Returns True if the given string is palindrome\"\"\"\n",
    "    \n",
    "    if not word or word != str(word): # First is we check if the given parameters is a string.\n",
    "        print(\"Invalid input!\")\n",
    "        return\n",
    "    \n",
    "    \"\"\"\n",
    "    Now we have to find a way to reverse the given string to check if nothing changed thus \n",
    "    it is palindrome. I'm thinking of looping through each character of a string and storing\n",
    "    each character to a list. Then we will use the reverse method to reverse the order of each\n",
    "    character in the list. Then creating a new variable to to join each character of a string.\n",
    "    This new variable can now be compared to the parameter given by the user.\n",
    "    \"\"\"\n",
    "    \n",
    "    letters = [letter for letter in word]\n",
    "    letters.reverse()\n",
    "    reversed_word = \"\".join(letters)\n",
    "    \n",
    "    if word == reversed_word:\n",
    "        return True\n",
    "    return False\n",
    "    \n",
    "    \n",
    "isPalindrome(a)"
   ]
  },
  {
   "cell_type": "code",
   "execution_count": 101,
   "id": "capable-kingdom",
   "metadata": {},
   "outputs": [
    {
     "name": "stdout",
     "output_type": "stream",
     "text": [
      "true // it's written the same forward and backward\n"
     ]
    },
    {
     "data": {
      "text/plain": [
       "True"
      ]
     },
     "execution_count": 101,
     "metadata": {},
     "output_type": "execute_result"
    }
   ],
   "source": [
    "a = \"abcdcba\"\n",
    "b = \"noonabbad\"\n",
    "c = 132\n",
    "\n",
    "def isPalindrome(word:str)->bool:\n",
    "    \"\"\"Returns True if given string is palinda = \"abcdcba\"\n",
    "b = \"noonabbad\"\n",
    "c = 132\n",
    "\n",
    "def isPalindrome(word:str)->bool:\n",
    "    \"\"\"Returns True if given string is palindrome\"\"\"\n",
    "    \n",
    "    if not word or word != str(word): # First is we check if the given parameters is a string.\n",
    "        print(\"Invalid input!\")\n",
    "        return\n",
    "    \n",
    "    \"\"\" Since strings are iterable we will use the indexes to compare\n",
    "    each letter from start to end. If it encounters a letter which is \n",
    "    not the same it will return False. There's no need to compare further. \"\"\"\n",
    "    \n",
    "    for index in range(len(word)):\n",
    "        if word[index] != word[-(index+1)]: # we used the -(index+1) to traverse in reversed order.\n",
    "            return False\n",
    "    print(\"true // it's written the same forward and backward\")\n",
    "    return True # If the loop end, it means all comparisons are same thus it is palindrome.\n",
    "\n",
    "        \n",
    "isPalindrome(a)rome\"\"\"\n",
    "    \n",
    "    if not word or word != str(word): # First is we check if the given parameters is a string.\n",
    "        print(\"Invalid input!\")\n",
    "        return\n",
    "    \n",
    "    \"\"\" Since strings are iterable we will use the indexes to compare\n",
    "    each letter from start to end. If it encounters a letter which is \n",
    "    not the same it will return False. There's no need to compare further. \"\"\"\n",
    "    \n",
    "    for index in range(len(word)):\n",
    "        if word[index] != word[-(index+1)]: # we used the -(index+1) to traverse in reversed order.\n",
    "            return False\n",
    "    print(\"true // it's written the same forward and backward\")\n",
    "    return True # If the loop end, it means all comparisons are same thus it is palindrome.\n",
    "\n",
    "        \n",
    "isPalindrome(a)"
   ]
  },
  {
   "cell_type": "markdown",
   "id": "limited-aquarium",
   "metadata": {},
   "source": [
    "## Level 2 Palindrome"
   ]
  },
  {
   "cell_type": "code",
   "execution_count": 102,
   "id": "aging-hardwood",
   "metadata": {},
   "outputs": [
    {
     "name": "stdout",
     "output_type": "stream",
     "text": [
      "xyzzyx\n"
     ]
    },
    {
     "data": {
      "text/plain": [
       "'xyzzyx'"
      ]
     },
     "execution_count": 102,
     "metadata": {},
     "output_type": "execute_result"
    }
   ],
   "source": [
    "a = \"abaxyzzyxf\"\n",
    "# b = \"noonabbad\"\n",
    "\n",
    "def longestPalindrome(word:str)->str:\n",
    "    \"\"\" Returns a string of longest possible palindrome \"\"\"\n",
    "    \n",
    "    try:\n",
    "        \"\"\" What I'm thinking is creating a dictionary and storing each letter of the word\n",
    "        provided in the argument. The letter will be the key and the number of times the\n",
    "        letter appeared will be the value. \"\"\"   \n",
    "    \n",
    "        palindromes = []\n",
    "        mapping = {}\n",
    "        for letter in word:\n",
    "            if letter not in mapping:\n",
    "                mapping[letter] = 1\n",
    "            else:\n",
    "                mapping[letter] += 1\n",
    "                \n",
    "        \"\"\" I'm thinking of removing the item in which the letter appeared only once. Because\n",
    "        if it only appeared once it means it's either the middle letter of the palindrome or\n",
    "        it's not included in the longest palindrome. \"\"\"\n",
    "\n",
    "        for item in list(mapping):\n",
    "            if mapping[item] < 2:\n",
    "                mapping.pop(item)  \n",
    "\n",
    "        \"\"\" Creating a reversed word of the given argument will let me check the index number\n",
    "        of the letter in a reversed order. \"\"\"\n",
    "                \n",
    "        letters = [letter for letter in word]\n",
    "        letters.reverse()\n",
    "        reversed_word = \"\".join(letters)\n",
    "        \n",
    "        \"\"\" We'll use the dictionary to  get the index number of the first and last occurence\n",
    "        of the letter which appeared multiple times in the provided argument. We use the provided\n",
    "        argument to get the first occurence and the reversed word of the argument to get the last.\n",
    "        Then we will slice the palindrome and store it to the list we initialized earlier. \"\"\"\n",
    "\n",
    "        for key in mapping.keys():       \n",
    "            palindromes.append(word[word.index(key): -reversed_word.index(key)]) # add (-) to the reversed_word\n",
    "            \n",
    "        print(max(palindromes, key=len))\n",
    "        return max(palindromes, key=len) # returns the largest \n",
    "    \n",
    "    except ValueError: # This line will catch invalid input.\n",
    "        return \"Invalid input or no palindrome\"\n",
    "    \n",
    "\n",
    " \n",
    "longestPalindrome(a)"
   ]
  },
  {
   "cell_type": "markdown",
   "id": "peripheral-porcelain",
   "metadata": {},
   "source": [
    "## Level 3 Palindrome"
   ]
  },
  {
   "cell_type": "code",
   "execution_count": 70,
   "id": "cosmetic-westminster",
   "metadata": {},
   "outputs": [
    {
     "name": "stdout",
     "output_type": "stream",
     "text": [
      "['aba', 'b', 'xyzzyx', 'yzzy', 'f']\n",
      "['noon', 'abba', 'd']\n"
     ]
    },
    {
     "data": {
      "text/plain": [
       "'2 // noon | abba | d'"
      ]
     },
     "execution_count": 70,
     "metadata": {},
     "output_type": "execute_result"
    }
   ],
   "source": [
    "a = \"noonabbad\"\n",
    "b = \"abaxyzzyxf\"\n",
    "\n",
    "def countPalindrome(word:int):\n",
    "    palindromes = []\n",
    "    mapping = {}\n",
    "    letters = [letter for letter in word]\n",
    "    letters.reverse()\n",
    "    reversed_word = \"\".join(letters)\n",
    "#     print(reversed_word)\n",
    "    \n",
    "    for i in range(len(word)):\n",
    "        mapping[word[i]] = i\n",
    "#     print(mapping)\n",
    "    \n",
    "    for letter in word:\n",
    "        if letter in mapping:\n",
    "#             print(letter)\n",
    "#             print(word.index(letter))\n",
    "            start = word.index(letter)\n",
    "            end = mapping[letter] + 1\n",
    "            if len(word[start:end]) != 2 and word[start:end] not in palindromes:\n",
    "                toAppend = word[start:end]\n",
    "                palindromes.append(toAppend)\n",
    "#             palindromes.sort(reverse=True, key=len)\n",
    "    \n",
    "    print(palindromes)\n",
    "    return str(len(palindromes) - 1) + \" // \" +  \" | \".join(palindromes)\n",
    "    \n",
    "# print(len(a))\n",
    "# print(a[8])\n",
    "countPalindrome(b)\n",
    "countPalindrome(a)"
   ]
  },
  {
   "cell_type": "code",
   "execution_count": 4,
   "id": "chemical-example",
   "metadata": {},
   "outputs": [
    {
     "name": "stdout",
     "output_type": "stream",
     "text": [
      "2 // noon | abba | d\n"
     ]
    },
    {
     "data": {
      "text/plain": [
       "2"
      ]
     },
     "execution_count": 4,
     "metadata": {},
     "output_type": "execute_result"
    }
   ],
   "source": [
    "a = \"noonabbad\"\n",
    "b = \"abaxyzzyxf\"\n",
    "\n",
    "def countPalindrome(word:str):\n",
    "    result = [] # will store all the possible partition\n",
    "    part = [] # will store the current partition.\n",
    "    \n",
    "    \"\"\" We create another function inside a function so that it has access to it's local\n",
    "    variable and the argument passed on. \"\"\"\n",
    "    \n",
    "    def depthFirstSearch(i:int): # \"i\" will be the index of the character we are currently at.\n",
    "        \"\"\" This function will search all the possible palindrome. \"\"\"\n",
    "        \n",
    "        if i >= len(word): # base case for recursion.\n",
    "            result.append(part.copy()) # we used .copy() so we don't reference to the part list we initialize.\n",
    "            return\n",
    "        \n",
    "        \"\"\" We will use the indexes to slice all the possible palindromes.\n",
    "        We will create a separate function to check if the compared word is palindrome.\n",
    "        If it's palindrome append it to the part list we initialize.\"\"\"\n",
    "        \n",
    "        for j in range(i, len(word)):\n",
    "            if isPali(word, i, j):\n",
    "#                 print(i, j+1)\n",
    "                part.append(word[i:j+1])\n",
    "#                 print(part)\n",
    "                depthFirstSearch(j+1) # recursion to look for additional palindrome.\n",
    "                part.pop() # for clean up since we only have a single partition variable.\n",
    "#                 print()\n",
    "            \n",
    "    \"\"\" We then get the last item in the list because that's the end of each search. \n",
    "    Then subtract 1 to the length of the last index to return how many cut it needs to\n",
    "    return each possible palindrome.\"\"\"\n",
    "    \n",
    "    depthFirstSearch(0)\n",
    "    print(str(len(result[-1])-1) + \" // \" + \" | \".join(result[-1]))\n",
    "#     print(result)\n",
    "    return len(result[-1])-1 \n",
    "\n",
    "\n",
    "\n",
    "def isPali(word:str,l:int,r:int)->bool:\n",
    "    \"\"\" This function will check if the word is palindrome.\"\"\"\n",
    "    while l < r:\n",
    "        if word[l] != word[r]:\n",
    "            return False \n",
    "        l, r = l+1, r-1 \n",
    "    return True\n",
    "\n",
    "countPalindrome(a)"
   ]
  },
  {
   "cell_type": "code",
   "execution_count": 119,
   "id": "electoral-steam",
   "metadata": {},
   "outputs": [
    {
     "data": {
      "text/plain": [
       "[8]"
      ]
     },
     "execution_count": 119,
     "metadata": {},
     "output_type": "execute_result"
    }
   ],
   "source": [
    "my_list = [4, 8, 2, 10, 15, 18]\n",
    "my_list[1:2]"
   ]
  }
 ],
 "metadata": {
  "kernelspec": {
   "display_name": "Python 3",
   "language": "python",
   "name": "python3"
  },
  "language_info": {
   "codemirror_mode": {
    "name": "ipython",
    "version": 3
   },
   "file_extension": ".py",
   "mimetype": "text/x-python",
   "name": "python",
   "nbconvert_exporter": "python",
   "pygments_lexer": "ipython3",
   "version": "3.8.10"
  }
 },
 "nbformat": 4,
 "nbformat_minor": 5
}
