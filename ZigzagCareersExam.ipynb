{
 "cells": [
  {
   "cell_type": "markdown",
   "id": "electoral-wallpaper",
   "metadata": {},
   "source": [
    "## Level 1 Palindrome"
   ]
  },
  {
   "cell_type": "code",
   "execution_count": 172,
   "id": "awful-component",
   "metadata": {},
   "outputs": [
    {
     "data": {
      "text/plain": [
       "True"
      ]
     },
     "execution_count": 172,
     "metadata": {},
     "output_type": "execute_result"
    }
   ],
   "source": [
    "a = \"abcdcba\"\n",
    "b = 123\n",
    "c = \"\"\n",
    "\n",
    "def isPalindrome(word:str)->bool:\n",
    "    \"\"\"Returns true if the given string is palindrome\"\"\"\n",
    "    if not word or word != str(word):\n",
    "        print(\"Invalid input!\")\n",
    "        return\n",
    "    \n",
    "    letters = [letter for letter in word]\n",
    "    letters.reverse()\n",
    "    reversed_word = \"\".join(letters)\n",
    "    \n",
    "    if word == reversed_word:\n",
    "        return True\n",
    "    return False\n",
    "    \n",
    "    \n",
    "isPalindrome(a)"
   ]
  },
  {
   "cell_type": "markdown",
   "id": "limited-aquarium",
   "metadata": {},
   "source": [
    "## Level 2 Palindrome"
   ]
  },
  {
   "cell_type": "code",
   "execution_count": 173,
   "id": "aging-hardwood",
   "metadata": {},
   "outputs": [
    {
     "data": {
      "text/plain": [
       "'xyzzyx'"
      ]
     },
     "execution_count": 173,
     "metadata": {},
     "output_type": "execute_result"
    }
   ],
   "source": [
    "a = \"abaxyzzyxf\"\n",
    "# b = \"noonabbad\"\n",
    "\n",
    "def longestPalindrome(word:str)->str:\n",
    "    \"\"\"Returns a string of longest possible palindrome\"\"\"\n",
    "    try:\n",
    "        palindromes = []\n",
    "        mapping = {}\n",
    "        for letter in word:\n",
    "            if letter not in mapping:\n",
    "                mapping[letter] = 1\n",
    "            else:\n",
    "                mapping[letter] += 1\n",
    "\n",
    "        for item in list(mapping):\n",
    "            if mapping[item] < 2:\n",
    "                mapping.pop(item)         \n",
    "\n",
    "        letters = [letter for letter in word]\n",
    "        letters.reverse()\n",
    "        reversed_word = \"\".join(letters)\n",
    "\n",
    "        for key in mapping.keys():\n",
    "    #         if key in word:\n",
    "    #             print(word.index(key))   \n",
    "    #         if key in reversed_word:\n",
    "    #             print(reversed_word.index(key)            \n",
    "            palindromes.append(word[word.index(key): -reversed_word.index(key)])\n",
    "#         print(palindromes)\n",
    "\n",
    "        return max(palindromes, key=len)\n",
    "    \n",
    "    except ValueError:\n",
    "        return \"Invalid input or no palindrome\"\n",
    "    \n",
    "\n",
    " \n",
    "longestPalindrome(a)"
   ]
  },
  {
   "cell_type": "markdown",
   "id": "peripheral-porcelain",
   "metadata": {},
   "source": [
    "## Level 3 Palindrome"
   ]
  },
  {
   "cell_type": "code",
   "execution_count": 171,
   "id": "cosmetic-westminster",
   "metadata": {},
   "outputs": [
    {
     "name": "stdout",
     "output_type": "stream",
     "text": [
      "['noon', 'abba', 'd']\n"
     ]
    },
    {
     "data": {
      "text/plain": [
       "2"
      ]
     },
     "execution_count": 171,
     "metadata": {},
     "output_type": "execute_result"
    }
   ],
   "source": [
    "a = \"noonabbad\"\n",
    "\n",
    "def countPalindrome(word:int):\n",
    "    palindromes = []\n",
    "    mapping = {}\n",
    "    letters = [letter for letter in word]\n",
    "    letters.reverse()\n",
    "    reversed_word = \"\".join(letters)\n",
    "#     print(reversed_word)\n",
    "    \n",
    "    for i in range(len(word)):\n",
    "        mapping[word[i]] = i\n",
    "#     print(mapping)\n",
    "    \n",
    "    for letter in word:\n",
    "        if letter in mapping:\n",
    "#             print(letter)\n",
    "#             print(word.index(letter))\n",
    "            start = word.index(letter)\n",
    "            end = mapping[letter] + 1\n",
    "            if len(word[start:end]) != 2 and word[start:end] not in palindromes:\n",
    "                toAppend = word[start:end]\n",
    "                palindromes.append(toAppend)\n",
    "#             palindromes.sort(reverse=True, key=len)\n",
    "    \n",
    "    print(palindromes)\n",
    "    return len(palindromes) - 1\n",
    "    \n",
    "# print(len(a))\n",
    "# print(a[8])\n",
    "countPalindrome(a)"
   ]
  }
 ],
 "metadata": {
  "kernelspec": {
   "display_name": "Python 3",
   "language": "python",
   "name": "python3"
  },
  "language_info": {
   "codemirror_mode": {
    "name": "ipython",
    "version": 3
   },
   "file_extension": ".py",
   "mimetype": "text/x-python",
   "name": "python",
   "nbconvert_exporter": "python",
   "pygments_lexer": "ipython3",
   "version": "3.8.10"
  }
 },
 "nbformat": 4,
 "nbformat_minor": 5
}
